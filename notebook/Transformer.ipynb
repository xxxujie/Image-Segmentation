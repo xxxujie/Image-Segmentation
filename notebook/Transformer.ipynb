{
 "cells": [
  {
   "cell_type": "code",
   "execution_count": 1,
   "metadata": {},
   "outputs": [],
   "source": [
    "import math\n",
    "import torch\n",
    "import torch.nn.functional as F\n",
    "from torch import nn, Tensor"
   ]
  },
  {
   "cell_type": "code",
   "execution_count": 2,
   "metadata": {},
   "outputs": [],
   "source": [
    "BATCH_SIZE = 128\n",
    "SEQUENCE_LEN = 64\n",
    "EMBEDDING_DIM = 512\n",
    "HEAD_COUNT = 8"
   ]
  },
  {
   "cell_type": "markdown",
   "metadata": {},
   "source": [
    "## Multi-head Attention"
   ]
  },
  {
   "cell_type": "code",
   "execution_count": 3,
   "metadata": {},
   "outputs": [
    {
     "name": "stdout",
     "output_type": "stream",
     "text": [
      "torch.Size([128, 64, 512])\n"
     ]
    }
   ],
   "source": [
    "# 模拟测试数据\n",
    "X = torch.randn(BATCH_SIZE, SEQUENCE_LEN, EMBEDDING_DIM)\n",
    "\n",
    "print(X.shape)"
   ]
  },
  {
   "cell_type": "markdown",
   "metadata": {},
   "source": [
    "$$\n",
    "\\text{Attention}(Q, K, V)=\\text{softmax}(\\frac{QK^T}{\\sqrt{d_k}})V\n",
    "$$\n",
    "\n",
    "- 单纯attention函数不含有可学习的参数。\n",
    "- torch的`matmul`/`@`是支持带batch的高维tensor的，它只会把最后两个维度相乘。\n",
    "\n",
    "Dropout的使用：\n",
    "- 构造：`dropout = nn.Dropout(p)`，\n",
    "- 输入：`dropout(x)`，\n",
    "- 输出：对于x中的每个元素，都有p概率被置为0。\n",
    "\n",
    "mask应该是上三角还是下三角？\n",
    "- 只要记住一点：我们的目的在于，Q只想要关注一部分的K。\n",
    "- 这里的QK相乘后，attention scores的维度为(seq_len_q, seq_len_k)，所以mask要设置为**下三角矩阵**。\n"
   ]
  },
  {
   "cell_type": "code",
   "execution_count": 4,
   "metadata": {},
   "outputs": [],
   "source": [
    "def _attention(\n",
    "    query: Tensor,\n",
    "    key: Tensor,\n",
    "    value: Tensor,\n",
    "    mask: Tensor | None = None,\n",
    "    dropout: nn.Dropout = None,\n",
    ") -> tuple[Tensor, Tensor]:\n",
    "    d_k = query.shape[-1]\n",
    "    # torch的矩阵乘法支持带batch的乘法，因此二维以上的矩阵也可以相乘\n",
    "    score_probs = query @ key.transpose(-2, -1) / math.sqrt(d_k)\n",
    "    if mask is not None:\n",
    "        # mask == 0的位置都设置为负无穷\n",
    "        score_probs = score_probs.masked_fill(mask == 0, float(\"-inf\"))\n",
    "    score_probs = F.softmax(score_probs, dim=-1)\n",
    "    if dropout is not None:\n",
    "        score_probs = dropout(score_probs)\n",
    "    return score_probs @ value, score_probs"
   ]
  },
  {
   "cell_type": "markdown",
   "metadata": {},
   "source": [
    "### 拆分多头\n",
    "\n",
    "把QKV的最后一维embedding_dim拆分成多个head_dim, 即投射到一个较小的维度上：\n",
    "- 原QKV形状为：`(batch_size, seq_len, embedding_dim)`\n",
    "- 拆分后形状为：`(batch_size, head_count, seq_len, head_dim)`\n",
    "\n",
    "每个头都是单独的权重矩阵。在代码的实现中，多个头是拼接在一起的，和一个大权重矩阵相乘（这个大矩阵其实就看做多个权重矩阵的拼接）。\n",
    "- 这都得益于pytorch方便的矩阵乘法，使得我们可以做到**并行计算**。\n",
    "\n",
    "### 合并多头\n",
    "\n",
    "最终，多个头的attention score拼接在一起后，还要应用一个输出权重矩阵 $W^O$ ，得到最终的输出。\n",
    "$$\n",
    "  \\begin{align*}\n",
    "  \\text{MultiHead}(Q,K,V) &= \\text{Concat}(\\text{head}_1,\\cdots,\\text{head}_h)W^O \\\\\n",
    "  \\textbf{where}\\ \\text{head}_i &= \\text{Attention}(QW^Q_i, KW^K_i, VW^V_i)\n",
    "  \\end{align*}\n",
    "  $$ \n",
    "\n"
   ]
  },
  {
   "cell_type": "code",
   "execution_count": 5,
   "metadata": {},
   "outputs": [],
   "source": [
    "class MultiHeadAttention(nn.Module):\n",
    "    def __init__(self, embedding_dim, head_count):\n",
    "        super().__init__()\n",
    "        self.embedding_dim = embedding_dim\n",
    "        self.head_count = head_count\n",
    "        self.q_weight = nn.Linear(embedding_dim, embedding_dim)\n",
    "        self.k_weight = nn.Linear(embedding_dim, embedding_dim)\n",
    "        self.v_weight = nn.Linear(embedding_dim, embedding_dim)\n",
    "        # 输出权重矩阵W_O\n",
    "        self.output_weight = nn.Linear(embedding_dim, embedding_dim)\n",
    "        self.softmax = nn.Softmax(dim=-1)\n",
    "\n",
    "    def forward(self, q_seq, k_seq, v_seq):\n",
    "        queries: Tensor = self.q_weight(q_seq)\n",
    "        keys: Tensor = self.k_weight(k_seq)\n",
    "        values: Tensor = self.v_weight(v_seq)\n",
    "        # 拆分多头\n",
    "        batch_size, seq_len, embedding_dim = q_seq.shape\n",
    "        head_dim = self.embedding_dim // self.head_count\n",
    "        # 即最后一维拆分 -> embedding_dim = head_count * head_dim，并交换head_count和seq_dim维度\n",
    "        queries = (\n",
    "            queries.contiguous()\n",
    "            .view(batch_size, seq_len, self.head_count, head_dim)\n",
    "            .permute(0, 2, 1, 3)\n",
    "        )\n",
    "        keys = (\n",
    "            keys.contiguous()\n",
    "            .view(batch_size, seq_len, self.head_count, head_dim)\n",
    "            .permute(0, 2, 1, 3)\n",
    "        )\n",
    "        values = (\n",
    "            values.contiguous()\n",
    "            .view(batch_size, seq_len, self.head_count, head_dim)\n",
    "            .permute(0, 2, 1, 3)\n",
    "        )\n",
    "        # 计算注意力\n",
    "        # 先获取一个mask，它是一个下三角矩阵\n",
    "        mask = torch.tril(torch.ones(seq_len, seq_len, dtype=bool))\n",
    "        attention_scores, _ = _attention(queries, keys, values, mask)\n",
    "        # 合并多头\n",
    "        attention_scores = (\n",
    "            attention_scores.permute(0, 2, 1, 3)\n",
    "            .contiguous()\n",
    "            .view(batch_size, seq_len, embedding_dim)\n",
    "        )\n",
    "        output = self.output_weight(attention_scores)\n",
    "        return output"
   ]
  },
  {
   "cell_type": "code",
   "execution_count": 6,
   "metadata": {},
   "outputs": [
    {
     "name": "stdout",
     "output_type": "stream",
     "text": [
      "torch.Size([128, 64, 512])\n"
     ]
    }
   ],
   "source": [
    "mha = MultiHeadAttention(EMBEDDING_DIM, HEAD_COUNT)\n",
    "res = mha(X, X, X)\n",
    "print(res.shape)"
   ]
  },
  {
   "cell_type": "markdown",
   "metadata": {},
   "source": [
    "## 位置编码\n",
    "\n",
    "**`nn.Embedding`中`padding_idx`参数的作用**：大部分模型都要求固定大小的输入数据，而现实中的句子不可能都是等长的，所以在把词元转化为token时，通常要多加一个token用来作为padding。而`padding_idx`的作用正是指明我们使用的padding是哪一个数，Embedding层会将其映射为0向量，并且这个位置不参与梯度下降。"
   ]
  },
  {
   "cell_type": "code",
   "execution_count": null,
   "metadata": {},
   "outputs": [],
   "source": [
    "# 用来将Token转化为embedding，其实就是封装了一下nn.Embedding\n",
    "class TokenEmbedding(nn.Embedding):\n",
    "    def __init__(self, vocab_count, embedding_dim, padding_token=0):\n",
    "        super().__init__(\n",
    "            num_embeddings=vocab_count,\n",
    "            embedding_dim=embedding_dim,\n",
    "            padding_idx=padding_token,\n",
    "        )"
   ]
  },
  {
   "cell_type": "markdown",
   "metadata": {},
   "source": [
    "正弦/余弦位置编码：\n",
    "每个维度都是独特的值，偶数维度用sin，奇数维度用cos：\n",
    "$$\n",
    "\\begin{equation}\n",
    "\\begin{split}\n",
    "\\text{PE}_{pos, 2i} &= \\sin{(pos/10000^{2i/d_{\\text{model}}})} \\\\\n",
    "\\text{PE}_{pos, 2i+1} &= \\cos{(pos/10000^{2i/d_{\\text{model}}})}\n",
    "\\end{split}\n",
    "\\end{equation}\n",
    "$$\n",
    "其中，$pos$代表token位置索引，$i$用来表示位置编码的维度（embedding维度）索引，$2i$表示偶数位置，$2i+1$表示奇数位置。\n",
    "\n",
    "加上位置矩阵后，同样的词组成的句子，词的语序不一样，那么词的embedding也不一样，这就成功带上了语序信息。"
   ]
  },
  {
   "cell_type": "code",
   "execution_count": null,
   "metadata": {},
   "outputs": [],
   "source": [
    "class PositionEmbedding(nn.Module):\n",
    "    def __init__(self, seq_len, embedding_dim, device):\n",
    "        super().__init__()\n",
    "        self.encoding = torch.zeros(seq_len, embedding_dim, device=device)\n",
    "        self.encoding.requires_grad_(False)\n",
    "\n",
    "        pos = torch.arange(0, seq_len, device=device)\n",
    "        pos = pos.float().unsqueeze(1)"
   ]
  }
 ],
 "metadata": {
  "kernelspec": {
   "display_name": "unet",
   "language": "python",
   "name": "python3"
  },
  "language_info": {
   "codemirror_mode": {
    "name": "ipython",
    "version": 3
   },
   "file_extension": ".py",
   "mimetype": "text/x-python",
   "name": "python",
   "nbconvert_exporter": "python",
   "pygments_lexer": "ipython3",
   "version": "3.10.14"
  }
 },
 "nbformat": 4,
 "nbformat_minor": 2
}
