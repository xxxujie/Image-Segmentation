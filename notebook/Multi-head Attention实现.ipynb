{
 "cells": [
  {
   "cell_type": "code",
   "execution_count": 1,
   "metadata": {},
   "outputs": [],
   "source": [
    "import math\n",
    "import torch\n",
    "import torch.nn.functional as F\n",
    "from torch import nn, Tensor"
   ]
  },
  {
   "cell_type": "code",
   "execution_count": 2,
   "metadata": {},
   "outputs": [],
   "source": [
    "BATCH_SIZE = 128\n",
    "SEQUENCE_LEN = 64\n",
    "EMBEDDING_DIM = 512\n",
    "HEAD_COUNT = 8"
   ]
  },
  {
   "cell_type": "code",
   "execution_count": 3,
   "metadata": {},
   "outputs": [
    {
     "name": "stdout",
     "output_type": "stream",
     "text": [
      "torch.Size([128, 64, 512])\n"
     ]
    }
   ],
   "source": [
    "# 模拟测试数据\n",
    "X = torch.randn(BATCH_SIZE, SEQUENCE_LEN, EMBEDDING_DIM)\n",
    "\n",
    "print(X.shape)"
   ]
  },
  {
   "cell_type": "markdown",
   "metadata": {},
   "source": [
    "$$\n",
    "\\text{Attention}(Q, K, V)=\\text{softmax}(\\frac{QK^T}{\\sqrt{d_k}})V\n",
    "$$\n",
    "\n",
    "- 单纯attention函数不含有可学习的参数。\n",
    "- torch的`matmul`/`@`是支持带batch的高维tensor的，它只会把最后两个维度相乘。\n",
    "\n",
    "Dropout的使用：\n",
    "- 构造：`dropout = nn.Dropout(p)`，\n",
    "- 输入：`dropout(x)`，\n",
    "- 输出：对于x中的每个元素，都有p概率被置为0。\n",
    "\n",
    "mask应该是上三角还是下三角？\n",
    "- 只要记住一点：我们的目的在于，Q只想要关注一部分的K。\n",
    "- 这里的QK相乘后，attention scores的维度为(seq_len_q, seq_len_k)，所以mask要设置为**下三角矩阵**。\n"
   ]
  },
  {
   "cell_type": "code",
   "execution_count": 4,
   "metadata": {},
   "outputs": [],
   "source": [
    "def _attention(\n",
    "    query: Tensor,\n",
    "    key: Tensor,\n",
    "    value: Tensor,\n",
    "    mask: Tensor | None = None,\n",
    "    dropout: nn.Dropout = None,\n",
    ") -> tuple[Tensor, Tensor]:\n",
    "    d_k = query.shape(-1)\n",
    "    # torch的矩阵乘法支持带batch的乘法，因此二维以上的矩阵也可以相乘\n",
    "    score_probs = query @ key.transpose(-2, -1) / math.sqrt(d_k)\n",
    "    if mask is not None:\n",
    "        # mask == 0的位置都设置为负无穷\n",
    "        score_probs = score_probs.masked_fill(mask == 0, float(\"-inf\"))\n",
    "    score_probs = F.softmax(score_probs, dim=-1)\n",
    "    if dropout is not None:\n",
    "        score_probs = dropout(score_probs)\n",
    "    return score_probs @ value, score_probs"
   ]
  },
  {
   "cell_type": "markdown",
   "metadata": {},
   "source": [
    "### 拆分多头\n",
    "\n",
    "把QKV的最后一维embedding_dim拆分成多个head_dim, 即投射到一个较小的维度上：\n",
    "- 原QKV形状为：`(batch_size, seq_len, embedding_dim)`\n",
    "- 拆分后形状为：`(batch_size, head_count, seq_len, head_dim)`\n",
    "\n",
    "每个头都是单独的权重矩阵。在代码的实现中，多个头是拼接在一起的，和一个大权重矩阵相乘（这个大矩阵其实就看做多个权重矩阵的拼接）。\n",
    "- 这都得益于pytorch方便的矩阵乘法，使得我们可以做到**并行计算**。\n",
    "\n",
    "### 合并多头\n",
    "\n",
    "最终，多个头的attention score拼接在一起后，还要应用一个输出权重矩阵 $W^O$ ，得到最终的输出。\n",
    "$$\n",
    "  \\begin{align*}\n",
    "  \\text{MultiHead}(Q,K,V) &= \\text{Concat}(\\text{head}_1,\\cdots,\\text{head}_h)W^O \\\\\n",
    "  \\textbf{where}\\ \\text{head}_i &= \\text{Attention}(QW^Q_i, KW^K_i, VW^V_i)\n",
    "  \\end{align*}\n",
    "  $$ \n",
    "\n"
   ]
  },
  {
   "cell_type": "code",
   "execution_count": 5,
   "metadata": {},
   "outputs": [],
   "source": [
    "class MultiHeadAttention(nn.Module):\n",
    "    def __init__(self, embedding_dim, head_count):\n",
    "        super().__init__()\n",
    "        self.embedding_dim = embedding_dim\n",
    "        self.head_count = head_count\n",
    "        self.q_weight = nn.Linear(embedding_dim, embedding_dim)\n",
    "        self.k_weight = nn.Linear(embedding_dim, embedding_dim)\n",
    "        self.v_weight = nn.Linear(embedding_dim, embedding_dim)\n",
    "        # 输出权重矩阵W_O\n",
    "        self.output_weight = nn.Linear(embedding_dim, embedding_dim)\n",
    "        self.softmax = nn.Softmax(dim=-1)\n",
    "\n",
    "    def forward(self, q_seq, k_seq, v_seq):\n",
    "        queries: Tensor = self.q_weight(q_seq)\n",
    "        keys: Tensor = self.k_weight(k_seq)\n",
    "        values: Tensor = self.v_weight(v_seq)\n",
    "        # 拆分多头\n",
    "        batch_size, seq_len, embedding_dim = q_seq.shape\n",
    "        head_dim = self.embedding_dim // self.head_count\n",
    "        # 即最后一维拆分 -> embedding_dim = head_count * head_dim，并交换head_count和seq_dim维度\n",
    "        queries = (\n",
    "            queries.contiguous()\n",
    "            .view(batch_size, seq_len, self.head_count, head_dim)\n",
    "            .permute(0, 2, 1, 3)\n",
    "        )\n",
    "        keys = (\n",
    "            keys.contiguous()\n",
    "            .view(batch_size, seq_len, self.head_count, head_dim)\n",
    "            .permute(0, 2, 1, 3)\n",
    "        )\n",
    "        values = (\n",
    "            values.contiguous()\n",
    "            .view(batch_size, seq_len, self.head_count, head_dim)\n",
    "            .permute(0, 2, 1, 3)\n",
    "        )\n",
    "        # 计算注意力\n",
    "        # 先获取一个mask，它是一个下三角矩阵\n",
    "        mask = torch.tril(torch.ones(seq_len, seq_len, dtype=bool))\n",
    "        attention_scores, _ = _attention(queries, keys, values, mask)\n",
    "        # 合并多头\n",
    "        attention_scores = (\n",
    "            attention_scores.permute(0, 2, 1, 3)\n",
    "            .contiguous()\n",
    "            .view(batch_size, seq_len, embedding_dim)\n",
    "        )\n",
    "        output = self.output_weight(attention_scores)\n",
    "        return output"
   ]
  },
  {
   "cell_type": "code",
   "execution_count": 6,
   "metadata": {},
   "outputs": [
    {
     "ename": "TypeError",
     "evalue": "'torch.Size' object is not callable",
     "output_type": "error",
     "traceback": [
      "\u001b[0;31m---------------------------------------------------------------------------\u001b[0m",
      "\u001b[0;31mTypeError\u001b[0m                                 Traceback (most recent call last)",
      "Cell \u001b[0;32mIn[6], line 2\u001b[0m\n\u001b[1;32m      1\u001b[0m mha \u001b[38;5;241m=\u001b[39m MultiHeadAttention(EMBEDDING_DIM, HEAD_COUNT)\n\u001b[0;32m----> 2\u001b[0m res \u001b[38;5;241m=\u001b[39m \u001b[43mmha\u001b[49m\u001b[43m(\u001b[49m\u001b[43mX\u001b[49m\u001b[43m,\u001b[49m\u001b[43m \u001b[49m\u001b[43mX\u001b[49m\u001b[43m,\u001b[49m\u001b[43m \u001b[49m\u001b[43mX\u001b[49m\u001b[43m)\u001b[49m\n\u001b[1;32m      3\u001b[0m \u001b[38;5;28mprint\u001b[39m(res\u001b[38;5;241m.\u001b[39mshape)\n",
      "File \u001b[0;32m~/programs/miniconda3/envs/unet/lib/python3.10/site-packages/torch/nn/modules/module.py:1532\u001b[0m, in \u001b[0;36mModule._wrapped_call_impl\u001b[0;34m(self, *args, **kwargs)\u001b[0m\n\u001b[1;32m   1530\u001b[0m     \u001b[38;5;28;01mreturn\u001b[39;00m \u001b[38;5;28mself\u001b[39m\u001b[38;5;241m.\u001b[39m_compiled_call_impl(\u001b[38;5;241m*\u001b[39margs, \u001b[38;5;241m*\u001b[39m\u001b[38;5;241m*\u001b[39mkwargs)  \u001b[38;5;66;03m# type: ignore[misc]\u001b[39;00m\n\u001b[1;32m   1531\u001b[0m \u001b[38;5;28;01melse\u001b[39;00m:\n\u001b[0;32m-> 1532\u001b[0m     \u001b[38;5;28;01mreturn\u001b[39;00m \u001b[38;5;28;43mself\u001b[39;49m\u001b[38;5;241;43m.\u001b[39;49m\u001b[43m_call_impl\u001b[49m\u001b[43m(\u001b[49m\u001b[38;5;241;43m*\u001b[39;49m\u001b[43margs\u001b[49m\u001b[43m,\u001b[49m\u001b[43m \u001b[49m\u001b[38;5;241;43m*\u001b[39;49m\u001b[38;5;241;43m*\u001b[39;49m\u001b[43mkwargs\u001b[49m\u001b[43m)\u001b[49m\n",
      "File \u001b[0;32m~/programs/miniconda3/envs/unet/lib/python3.10/site-packages/torch/nn/modules/module.py:1541\u001b[0m, in \u001b[0;36mModule._call_impl\u001b[0;34m(self, *args, **kwargs)\u001b[0m\n\u001b[1;32m   1536\u001b[0m \u001b[38;5;66;03m# If we don't have any hooks, we want to skip the rest of the logic in\u001b[39;00m\n\u001b[1;32m   1537\u001b[0m \u001b[38;5;66;03m# this function, and just call forward.\u001b[39;00m\n\u001b[1;32m   1538\u001b[0m \u001b[38;5;28;01mif\u001b[39;00m \u001b[38;5;129;01mnot\u001b[39;00m (\u001b[38;5;28mself\u001b[39m\u001b[38;5;241m.\u001b[39m_backward_hooks \u001b[38;5;129;01mor\u001b[39;00m \u001b[38;5;28mself\u001b[39m\u001b[38;5;241m.\u001b[39m_backward_pre_hooks \u001b[38;5;129;01mor\u001b[39;00m \u001b[38;5;28mself\u001b[39m\u001b[38;5;241m.\u001b[39m_forward_hooks \u001b[38;5;129;01mor\u001b[39;00m \u001b[38;5;28mself\u001b[39m\u001b[38;5;241m.\u001b[39m_forward_pre_hooks\n\u001b[1;32m   1539\u001b[0m         \u001b[38;5;129;01mor\u001b[39;00m _global_backward_pre_hooks \u001b[38;5;129;01mor\u001b[39;00m _global_backward_hooks\n\u001b[1;32m   1540\u001b[0m         \u001b[38;5;129;01mor\u001b[39;00m _global_forward_hooks \u001b[38;5;129;01mor\u001b[39;00m _global_forward_pre_hooks):\n\u001b[0;32m-> 1541\u001b[0m     \u001b[38;5;28;01mreturn\u001b[39;00m \u001b[43mforward_call\u001b[49m\u001b[43m(\u001b[49m\u001b[38;5;241;43m*\u001b[39;49m\u001b[43margs\u001b[49m\u001b[43m,\u001b[49m\u001b[43m \u001b[49m\u001b[38;5;241;43m*\u001b[39;49m\u001b[38;5;241;43m*\u001b[39;49m\u001b[43mkwargs\u001b[49m\u001b[43m)\u001b[49m\n\u001b[1;32m   1543\u001b[0m \u001b[38;5;28;01mtry\u001b[39;00m:\n\u001b[1;32m   1544\u001b[0m     result \u001b[38;5;241m=\u001b[39m \u001b[38;5;28;01mNone\u001b[39;00m\n",
      "Cell \u001b[0;32mIn[5], line 39\u001b[0m, in \u001b[0;36mMultiHeadAttention.forward\u001b[0;34m(self, q_seq, k_seq, v_seq)\u001b[0m\n\u001b[1;32m     36\u001b[0m \u001b[38;5;66;03m# 计算注意力\u001b[39;00m\n\u001b[1;32m     37\u001b[0m \u001b[38;5;66;03m# 先生成一个mask，它是一个下三角矩阵\u001b[39;00m\n\u001b[1;32m     38\u001b[0m mask \u001b[38;5;241m=\u001b[39m torch\u001b[38;5;241m.\u001b[39mtril(torch\u001b[38;5;241m.\u001b[39mones(seq_len, seq_len, dtype\u001b[38;5;241m=\u001b[39m\u001b[38;5;28mbool\u001b[39m))\n\u001b[0;32m---> 39\u001b[0m attention_scores, _ \u001b[38;5;241m=\u001b[39m \u001b[43m_attention\u001b[49m\u001b[43m(\u001b[49m\u001b[43mqueries\u001b[49m\u001b[43m,\u001b[49m\u001b[43m \u001b[49m\u001b[43mkeys\u001b[49m\u001b[43m,\u001b[49m\u001b[43m \u001b[49m\u001b[43mvalues\u001b[49m\u001b[43m,\u001b[49m\u001b[43m \u001b[49m\u001b[43mmask\u001b[49m\u001b[43m)\u001b[49m\n\u001b[1;32m     40\u001b[0m \u001b[38;5;66;03m# 合并多头\u001b[39;00m\n\u001b[1;32m     41\u001b[0m attention_scores \u001b[38;5;241m=\u001b[39m (\n\u001b[1;32m     42\u001b[0m     attention_scores\u001b[38;5;241m.\u001b[39mpermute(\u001b[38;5;241m0\u001b[39m, \u001b[38;5;241m2\u001b[39m, \u001b[38;5;241m1\u001b[39m, \u001b[38;5;241m3\u001b[39m)\n\u001b[1;32m     43\u001b[0m     \u001b[38;5;241m.\u001b[39mcontiguous()\n\u001b[1;32m     44\u001b[0m     \u001b[38;5;241m.\u001b[39mview(batch_size, seq_len, embedding_dim)\n\u001b[1;32m     45\u001b[0m )\n",
      "Cell \u001b[0;32mIn[4], line 8\u001b[0m, in \u001b[0;36m_attention\u001b[0;34m(query, key, value, mask, dropout)\u001b[0m\n\u001b[1;32m      1\u001b[0m \u001b[38;5;28;01mdef\u001b[39;00m \u001b[38;5;21m_attention\u001b[39m(\n\u001b[1;32m      2\u001b[0m     query: Tensor,\n\u001b[1;32m      3\u001b[0m     key: Tensor,\n\u001b[0;32m   (...)\u001b[0m\n\u001b[1;32m      6\u001b[0m     dropout: nn\u001b[38;5;241m.\u001b[39mDropout \u001b[38;5;241m=\u001b[39m \u001b[38;5;28;01mNone\u001b[39;00m,\n\u001b[1;32m      7\u001b[0m ) \u001b[38;5;241m-\u001b[39m\u001b[38;5;241m>\u001b[39m \u001b[38;5;28mtuple\u001b[39m[Tensor, Tensor]:\n\u001b[0;32m----> 8\u001b[0m     d_k \u001b[38;5;241m=\u001b[39m \u001b[43mquery\u001b[49m\u001b[38;5;241;43m.\u001b[39;49m\u001b[43mshape\u001b[49m\u001b[43m(\u001b[49m\u001b[38;5;241;43m-\u001b[39;49m\u001b[38;5;241;43m1\u001b[39;49m\u001b[43m)\u001b[49m\n\u001b[1;32m      9\u001b[0m     \u001b[38;5;66;03m# torch的矩阵乘法支持带batch的乘法，因此二维以上的矩阵也可以相乘\u001b[39;00m\n\u001b[1;32m     10\u001b[0m     score_probs \u001b[38;5;241m=\u001b[39m query \u001b[38;5;241m@\u001b[39m key\u001b[38;5;241m.\u001b[39mtranspose(\u001b[38;5;241m-\u001b[39m\u001b[38;5;241m2\u001b[39m, \u001b[38;5;241m-\u001b[39m\u001b[38;5;241m1\u001b[39m) \u001b[38;5;241m/\u001b[39m math\u001b[38;5;241m.\u001b[39msqrt(d_k)\n",
      "\u001b[0;31mTypeError\u001b[0m: 'torch.Size' object is not callable"
     ]
    }
   ],
   "source": [
    "mha = MultiHeadAttention(EMBEDDING_DIM, HEAD_COUNT)\n",
    "res = mha(X, X, X)\n",
    "print(res.shape)"
   ]
  }
 ],
 "metadata": {
  "kernelspec": {
   "display_name": "unet",
   "language": "python",
   "name": "python3"
  },
  "language_info": {
   "codemirror_mode": {
    "name": "ipython",
    "version": 3
   },
   "file_extension": ".py",
   "mimetype": "text/x-python",
   "name": "python",
   "nbconvert_exporter": "python",
   "pygments_lexer": "ipython3",
   "version": "3.10.14"
  }
 },
 "nbformat": 4,
 "nbformat_minor": 2
}
